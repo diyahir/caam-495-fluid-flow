{
 "cells": [
  {
   "cell_type": "markdown",
   "metadata": {},
   "source": [
    "# Imports"
   ]
  },
  {
   "cell_type": "code",
   "execution_count": 2,
   "metadata": {},
   "outputs": [],
   "source": [
    "import numpy as np\n",
    "import pandas as pd\n",
    "import matplotlib.pyplot as plt\n",
    "import random\n",
    "import sklearn\n",
    "\n",
    "X_PATH = '/Users/jiujiu/Desktop/caam-495-fluid-flow/Data'\n",
    "# modify as needed for personal computer"
   ]
  },
  {
   "cell_type": "markdown",
   "metadata": {},
   "source": [
    "# Exploratory Data Analysis"
   ]
  },
  {
   "cell_type": "markdown",
   "metadata": {},
   "source": [
    "### Importing Data and resizing "
   ]
  },
  {
   "cell_type": "code",
   "execution_count": 3,
   "metadata": {},
   "outputs": [
    {
     "name": "stdout",
     "output_type": "stream",
     "text": [
      "('Size of dataset X: ', 120)\n",
      "('Where each instance is of size: ', (10, 10, 3))\n"
     ]
    }
   ],
   "source": [
    "X_unsized = pd.read_csv(X_PATH + '/x.csv', header = None)\n",
    "X_unsized.head()\n",
    "X_unsized.shape\n",
    "X = np.resize(X_unsized.values, (120,300))\n",
    "sample = X[0]\n",
    "sample.resize(10,10,3)\n",
    "X_new = []\n",
    "for instance in X:\n",
    "    temp = instance\n",
    "    temp = np.reshape(temp,(10,10,3),order ='F')\n",
    "    X_new.append(temp)\n",
    "    \n",
    "#     print(temp[:,:,0])\n",
    "#     plt.matshow(temp[:,:,0])\n",
    "#     plt.colorbar()\n",
    "#     plt.show()\n",
    "#     sds\n",
    "\n",
    "print('Size of dataset X: ', len(X_new))\n",
    "print('Where each instance is of size: ',temp.shape)"
   ]
  },
  {
   "cell_type": "markdown",
   "metadata": {},
   "source": [
    "### Visualizing Dataset"
   ]
  },
  {
   "cell_type": "code",
   "execution_count": 4,
   "metadata": {
    "scrolled": true
   },
   "outputs": [
    {
     "data": {
      "image/png": "[encoded data removed]",
      "text/plain": [
       "<Figure size 1080x360 with 3 Axes>"
      ]
     },
     "metadata": {},
     "output_type": "display_data"
    }
   ],
   "source": [
    "DAY = random.randint(0,119)\n",
    "fig, (ax1, ax2, ax3) = plt.subplots(1,3,figsize=(15,5))\n",
    "\n",
    "ax1.imshow(X_new[DAY][:,:,0])\n",
    "ax1.set_title('1st layer')\n",
    "ax2.imshow(X_new[DAY][:,:,1])\n",
    "ax2.set_title('2nd layer')\n",
    "ax3.imshow(X_new[DAY][:,:,2])\n",
    "ax3.set_title('3rd layer')\n",
    "fig.suptitle('Pressure on Day: ' + str(DAY))\n",
    "plt.show()"
   ]
  },
  {
   "cell_type": "markdown",
   "metadata": {},
   "source": [
    "# Constructing Raw Dataset"
   ]
  },
  {
   "cell_type": "code",
   "execution_count": 5,
   "metadata": {},
   "outputs": [],
   "source": [
    "def create_dataset(X,window_len):\n",
    "    \"\"\"\n",
    "    Takes in a timeseries X to create a dataset such that\n",
    "    \n",
    "    X_new = [[X_0,X_1,X_2,...,X_window_len],....[X_end-window_len,....,X_end]]\n",
    "    Y_new = [X_window_len,....X_end]\n",
    "    \"\"\"\n",
    "    X_new = []\n",
    "    Y_new = X[window_len:]\n",
    "    for index in range(len(X) - window_len):\n",
    "        \n",
    "        temp = np.reshape(X[index],(10,10,3,1))\n",
    "        for i in range(1,window_len):\n",
    "            new_X = np.reshape(X[index+i],(10,10,3,1))\n",
    "            temp = np.concatenate((temp,new_X),axis = 3)\n",
    "        \n",
    "        X_new.append(temp)\n",
    "    X_new = np.stack(X_new) \n",
    "    Y_new = np.stack(Y_new)\n",
    "    return X_new,Y_new"
   ]
  },
  {
   "cell_type": "markdown",
   "metadata": {},
   "source": [
    "### Sanity Check"
   ]
  },
  {
   "cell_type": "code",
   "execution_count": 6,
   "metadata": {},
   "outputs": [
    {
     "name": "stdout",
     "output_type": "stream",
     "text": [
      "('Shape of each x:', (10, 10, 3, 3))\n",
      "('Size of X dataset:', (117, 10, 10, 3, 3))\n",
      "Structure        : (number of instances, x-space, y-space, z-space, time)\n",
      "('Size of Y dataset:', (117, 10, 10, 3))\n"
     ]
    }
   ],
   "source": [
    "X, Y = create_dataset(X_new,3)\n",
    "print('Shape of each x:',X[0].shape)\n",
    "print('Size of X dataset:',X.shape)\n",
    "print('Structure        : (number of instances, x-space, y-space, z-space, time)')\n",
    "print('Size of Y dataset:',Y.shape)"
   ]
  },
  {
   "cell_type": "code",
   "execution_count": 7,
   "metadata": {},
   "outputs": [
    {
     "name": "stdout",
     "output_type": "stream",
     "text": [
      "Sanity check so that we know that the first Y is the next X\n",
      "[[ True  True  True  True  True  True  True  True  True  True]\n",
      " [ True  True  True  True  True  True  True  True  True  True]\n",
      " [ True  True  True  True  True  True  True  True  True  True]\n",
      " [ True  True  True  True  True  True  True  True  True  True]\n",
      " [ True  True  True  True  True  True  True  True  True  True]\n",
      " [ True  True  True  True  True  True  True  True  True  True]\n",
      " [ True  True  True  True  True  True  True  True  True  True]\n",
      " [ True  True  True  True  True  True  True  True  True  True]\n",
      " [ True  True  True  True  True  True  True  True  True  True]\n",
      " [ True  True  True  True  True  True  True  True  True  True]]\n"
     ]
    }
   ],
   "source": [
    "print('Sanity check so that we know that the first Y is the next X')\n",
    "print(X[1][:,:,0,2] == Y[0][:,:,0])"
   ]
  },
  {
   "cell_type": "code",
   "execution_count": 8,
   "metadata": {},
   "outputs": [
    {
     "name": "stdout",
     "output_type": "stream",
     "text": [
      "Ploting the pressure at the top level\n"
     ]
    },
    {
     "data": {
      "image/png": "[encoded data removed]",
      "text/plain": [
       "<Figure size 288x288 with 1 Axes>"
      ]
     },
     "metadata": {},
     "output_type": "display_data"
    }
   ],
   "source": [
    "plt.matshow(X[0,:,:,0,0])\n",
    "print('Ploting the pressure at the top level')\n",
    "plt.show()"
   ]
  },
  {
   "cell_type": "markdown",
   "metadata": {},
   "source": [
    "# Plotting"
   ]
  },
  {
   "cell_type": "code",
   "execution_count": 9,
   "metadata": {},
   "outputs": [
    {
     "name": "stdout",
     "output_type": "stream",
     "text": [
      "(120, 10, 10, 3)\n"
     ]
    },
    {
     "data": {
      "text/plain": [
       "<matplotlib.legend.Legend at 0xa15c37490>"
      ]
     },
     "execution_count": 9,
     "metadata": {},
     "output_type": "execute_result"
    },
    {
     "data": {
      "image/png": "[encoded data removed]",
      "text/plain": [
       "<Figure size 432x288 with 1 Axes>"
      ]
     },
     "metadata": {},
     "output_type": "display_data"
    }
   ],
   "source": [
    "print(np.shape(X_new))\n",
    "mins = np.zeros([120,])\n",
    "maxs = np.zeros([120,])\n",
    "for day in range(120):\n",
    "    mins[day] = np.min(X_new[day])\n",
    "    maxs[day] = np.max(X_new[day])\n",
    "\n",
    "line1 = plt.plot(range(1,121),mins,label='mins')\n",
    "line2 = plt.plot(range(1,121),maxs,label='maxs')\n",
    "plt.legend()"
   ]
  },
  {
   "cell_type": "markdown",
   "metadata": {},
   "source": [
    "# Normalizing Dataset"
   ]
  },
  {
   "cell_type": "code",
   "execution_count": 10,
   "metadata": {},
   "outputs": [],
   "source": [
    "def scaledata(X,Y):\n",
    "    n = len(X) # number of data entries\n",
    "    stds = np.zeros([n,])\n",
    "    means = np.zeros([n,])\n",
    "    for i in range(n):\n",
    "        stds[i] = np.std(X[i,:,:,:,0])\n",
    "        means[i] = np.mean(X[i,:,:,:,0])\n",
    "        X[i,] = np.true_divide(X[i,]-means[i],stds[i])\n",
    "        Y[i,] = np.true_divide(Y[i,]-means[i],stds[i])\n",
    "    return X,Y,stds,means\n",
    "    \n",
    "def rescaledata(stds,means,Y):\n",
    "    n = len(Y)\n",
    "    for i in range(n):\n",
    "        Y[i,] = stds[i]*Y[i,]+means[i]\n",
    "    return Y"
   ]
  },
  {
   "cell_type": "code",
   "execution_count": 11,
   "metadata": {},
   "outputs": [],
   "source": [
    "X, Y = create_dataset(X_new,3)\n",
    "X_scaled,Y_scaled,stds,means = scaledata(X,Y)\n",
    "Y_rescaled = rescaledata(stds,means,Y_scaled)\n",
    "# print(Y_rescaled == Y)"
   ]
  },
  {
   "cell_type": "code",
   "execution_count": 12,
   "metadata": {},
   "outputs": [
    {
     "ename": "ImportError",
     "evalue": "No module named keras",
     "output_type": "error",
     "traceback": [
      "\u001b[0;31m---------------------------------------------------------------------------\u001b[0m",
      "\u001b[0;31mImportError\u001b[0m                               Traceback (most recent call last)",
      "\u001b[0;32m<ipython-input-12-a3a7f60b3dc1>\u001b[0m in \u001b[0;36m<module>\u001b[0;34m()\u001b[0m\n\u001b[0;32m----> 1\u001b[0;31m \u001b[0;32mimport\u001b[0m \u001b[0mkeras\u001b[0m\u001b[0;34m\u001b[0m\u001b[0m\n\u001b[0m\u001b[1;32m      2\u001b[0m \u001b[0;32mfrom\u001b[0m \u001b[0mkeras\u001b[0m\u001b[0;34m.\u001b[0m\u001b[0mmodels\u001b[0m \u001b[0;32mimport\u001b[0m \u001b[0mSequential\u001b[0m\u001b[0;34m\u001b[0m\u001b[0m\n\u001b[1;32m      3\u001b[0m \u001b[0;32mfrom\u001b[0m \u001b[0mkeras\u001b[0m\u001b[0;34m.\u001b[0m\u001b[0mmodels\u001b[0m \u001b[0;32mimport\u001b[0m \u001b[0mModel\u001b[0m\u001b[0;34m,\u001b[0m \u001b[0mload_model\u001b[0m\u001b[0;34m\u001b[0m\u001b[0m\n\u001b[1;32m      4\u001b[0m \u001b[0;32mfrom\u001b[0m \u001b[0mkeras\u001b[0m\u001b[0;34m.\u001b[0m\u001b[0mlayers\u001b[0m \u001b[0;32mimport\u001b[0m \u001b[0mInput\u001b[0m\u001b[0;34m\u001b[0m\u001b[0m\n\u001b[1;32m      5\u001b[0m \u001b[0;32mfrom\u001b[0m \u001b[0mkeras\u001b[0m\u001b[0;34m.\u001b[0m\u001b[0mlayers\u001b[0m\u001b[0;34m.\u001b[0m\u001b[0mcore\u001b[0m \u001b[0;32mimport\u001b[0m \u001b[0mDropout\u001b[0m\u001b[0;34m,\u001b[0m \u001b[0mLambda\u001b[0m\u001b[0;34m\u001b[0m\u001b[0m\n",
      "\u001b[0;31mImportError\u001b[0m: No module named keras"
     ]
    }
   ],
   "source": [
    "import keras\n",
    "from keras.models import Sequential\n",
    "from keras.models import Model, load_model\n",
    "from keras.layers import Input\n",
    "from keras.layers.core import Dropout, Lambda\n",
    "from keras.layers.convolutional import Conv3D, Conv3DTranspose\n",
    "\n",
    "from keras.layers.pooling import MaxPooling3D\n",
    "from keras.layers.merge import concatenate\n",
    "from keras.callbacks import EarlyStopping, ModelCheckpoint\n",
    "from keras import backend as K\n",
    "\n",
    "X_SIZE = 10\n",
    "Y_SIZE = 10 \n",
    "SAT_LAYERS = 3\n",
    "WINDOW_LENGTH = 3"
   ]
  },
  {
   "cell_type": "code",
   "execution_count": null,
   "metadata": {},
   "outputs": [],
   "source": [
    "inputs = Input((X_SIZE, Y_SIZE, SAT_LAYERS, WINDOW_LENGTH))\n",
    "\n",
    "c1 = Conv3D(8, (3, 3, 3), activation='elu', kernel_initializer='he_normal', padding='same') (inputs)\n",
    "c1 = Dropout(0.1) (c1)\n",
    "c1 = Conv3D(16, (3, 3, 3), activation='elu', kernel_initializer='he_normal', padding='same') (c1)\n",
    "p1 = MaxPooling3D((2, 2, 1)) (c1)\n",
    "\n",
    "u9 = Conv3DTranspose(16, (2, 2, 2), strides=(2, 2, 2), padding='same') (p1)\n",
    "u9 = concatenate([u9, c1], axis=3)\n",
    "c9 = Conv3D(16, (3, 3, 3), activation='elu', kernel_initializer='he_normal', padding='same') (u9)\n",
    "c9 = Dropout(0.1) (c9)\n",
    "c9 = Conv3D(16, (3, 3, 3), activation='elu', kernel_initializer='he_normal', padding='same') (c9)\n",
    "\n",
    "outputs = Conv3D(1, (1, 1, 7), activation='sigmoid') (c9)\n",
    "\n",
    "model = Model(inputs=[inputs], outputs=[outputs])\n",
    "model.compile(optimizer='adam', loss='mse')\n",
    "model.summary()"
   ]
  }
 ],
 "metadata": {
  "kernelspec": {
   "display_name": "Python 2",
   "language": "python",
   "name": "python2"
  },
  "language_info": {
   "codemirror_mode": {
    "name": "ipython",
    "version": 2
   },
   "file_extension": ".py",
   "mimetype": "text/x-python",
   "name": "python",
   "nbconvert_exporter": "python",
   "pygments_lexer": "ipython2",
   "version": "2.7.15"
  }
 },
 "nbformat": 4,
 "nbformat_minor": 2
}
