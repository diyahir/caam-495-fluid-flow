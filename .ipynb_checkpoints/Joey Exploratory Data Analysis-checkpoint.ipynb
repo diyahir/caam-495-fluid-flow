{
 "cells": [
  {
   "cell_type": "markdown",
   "metadata": {},
   "source": [
    "# Imports"
   ]
  },
  {
   "cell_type": "code",
   "execution_count": 1,
   "metadata": {},
   "outputs": [],
   "source": [
    "import numpy as np\n",
    "import pandas as pd\n",
    "import matplotlib.pyplot as plt\n",
    "import random\n",
    "import sklearn\n",
    "\n",
    "X_PATH = '/Users/jiujiu/Desktop/caam-495-fluid-flow/Data'\n",
    "# modify as needed for personal computer"
   ]
  },
  {
   "cell_type": "markdown",
   "metadata": {},
   "source": [
    "# Exploratory Data Analysis"
   ]
  },
  {
   "cell_type": "markdown",
   "metadata": {},
   "source": [
    "### Importing Data and resizing "
   ]
  },
  {
   "cell_type": "code",
   "execution_count": 2,
   "metadata": {},
   "outputs": [],
   "source": [
    "X_unsized = pd.read_csv(X_PATH + '/x.csv', header = None)\n",
    "X_unsized.head()\n",
    "X_unsized.shape\n",
    "X_raw = np.resize(X_unsized.values, (120,300))"
   ]
  },
  {
   "cell_type": "markdown",
   "metadata": {},
   "source": [
    "# Constructing Raw Dataset"
   ]
  },
  {
   "cell_type": "code",
   "execution_count": 3,
   "metadata": {},
   "outputs": [],
   "source": [
    "def create_dataset(X,window_len):\n",
    "    \"\"\"\n",
    "    Takes in a timeseries X to create a dataset such that\n",
    "    \n",
    "    X_new = [[X_0,X_1,X_2,...,X_window_len],....[X_end-window_len,....,X_end]]\n",
    "    Y_new = [X_window_len,....X_end]\n",
    "    \"\"\"\n",
    "    X_new = []\n",
    "    Y_new = X[window_len:]\n",
    "    for index in range(len(X) - window_len):        \n",
    "        temp = X[index]\n",
    "        for i in range(1,window_len):\n",
    "            temp = np.vstack((temp,X[index+i]))\n",
    "        X_new.append(temp)\n",
    "    X_new = np.stack(X_new)\n",
    "    Y_new = np.stack(Y_new)\n",
    "    return X_new,Y_new"
   ]
  },
  {
   "cell_type": "markdown",
   "metadata": {},
   "source": [
    "### Sanity Check"
   ]
  },
  {
   "cell_type": "code",
   "execution_count": 4,
   "metadata": {},
   "outputs": [
    {
     "name": "stdout",
     "output_type": "stream",
     "text": [
      "Shape of each x: (3, 300)\n",
      "Size of X dataset: (117, 3, 300)\n",
      "Structure        : (sample, timesteps, x)\n",
      "Size of Y dataset: (117, 300)\n"
     ]
    }
   ],
   "source": [
    "X, Y = create_dataset(X_raw,3)\n",
    "print('Shape of each x:',X[0].shape)\n",
    "print('Size of X dataset:',X.shape)\n",
    "print('Structure        : (sample, timesteps, x)')\n",
    "print('Size of Y dataset:',Y.shape)"
   ]
  },
  {
   "cell_type": "markdown",
   "metadata": {},
   "source": [
    "# Plotting"
   ]
  },
  {
   "cell_type": "code",
   "execution_count": 5,
   "metadata": {},
   "outputs": [
    {
     "name": "stdout",
     "output_type": "stream",
     "text": [
      "(120, 300)\n"
     ]
    },
    {
     "data": {
      "text/plain": [
       "<matplotlib.legend.Legend at 0xa18420e48>"
      ]
     },
     "execution_count": 5,
     "metadata": {},
     "output_type": "execute_result"
    },
    {
     "data": {
      "image/png": "[encoded data removed]",
      "text/plain": [
       "<Figure size 432x288 with 1 Axes>"
      ]
     },
     "metadata": {
      "needs_background": "light"
     },
     "output_type": "display_data"
    }
   ],
   "source": [
    "# Here we plot the maximum and minimum of all samples\n",
    "print(np.shape(X_raw))\n",
    "mins = np.zeros([len(X_raw),])\n",
    "maxs = np.zeros([len(X_raw),])\n",
    "for day in range(len(X_raw)):\n",
    "    mins[day] = np.min(X_raw[day,])\n",
    "    maxs[day] = np.max(X_raw[day,])\n",
    "\n",
    "line1 = plt.plot(range(1,121),mins,label='mins')\n",
    "line2 = plt.plot(range(1,121),maxs,label='maxs')\n",
    "plt.legend()"
   ]
  },
  {
   "cell_type": "markdown",
   "metadata": {},
   "source": [
    "# Normalizing Dataset"
   ]
  },
  {
   "cell_type": "code",
   "execution_count": 6,
   "metadata": {},
   "outputs": [],
   "source": [
    "def scaledata(X,Y):\n",
    "    n = len(X) # number of data entries\n",
    "    stds = np.zeros([n,])\n",
    "    means = np.zeros([n,])\n",
    "    X_scaled = np.zeros(X.shape)\n",
    "    Y_scaled = np.zeros(Y.shape)\n",
    "    for i in range(n):\n",
    "        stds[i] = np.std(X[i,0,:])\n",
    "        means[i] = np.mean(X[i,0,:])\n",
    "        X_scaled[i,] = np.true_divide(X[i,]-means[i],stds[i])\n",
    "        Y_scaled[i,] = np.true_divide(Y[i,]-means[i],stds[i])\n",
    "    return X_scaled,Y_scaled,stds,means\n",
    "    \n",
    "def rescaledata(stds,means,Y):\n",
    "    if len(Y.shape) == 1:\n",
    "        print('Y must be a 2D array with matching stds and means')\n",
    "    else:\n",
    "        # rescale data back, given particular Y\n",
    "        n = Y.shape[0]\n",
    "        rescaled_Y = np.zeros(Y.shape)\n",
    "        for i in range(n):\n",
    "            rescaled_Y[i] = stds[i]*Y[i,]+means[i]\n",
    "    return rescaled_Y"
   ]
  },
  {
   "cell_type": "code",
   "execution_count": 121,
   "metadata": {},
   "outputs": [],
   "source": [
    "def preparedata(X_raw,lookback,a,b,shuffle_flag):\n",
    "    X, Y = create_dataset(X_raw,lookback)\n",
    "    if lookback == 1:\n",
    "        X = np.expand_dims(X, axis=1)\n",
    "        Y = np.expand_dims(Y, axis=1)\n",
    "    X_scaled,Y_scaled,stds,means = scaledata(X,Y)\n",
    "    # Y_rescaled = rescaledata(stds,means,Y_scaled)\n",
    "    random.seed(0)\n",
    "    indices = list(range(len(X_scaled)))\n",
    "    if shuffle_flag:\n",
    "        print('Data shuffled')\n",
    "        random.shuffle(indices)\n",
    "    n = len(X)*a//(a+b)\n",
    "    X_train = X_scaled[indices[:n],:,:]\n",
    "    y_train = Y_scaled[indices[:n],:]\n",
    "    X_test = X_scaled[indices[n:],:,:]\n",
    "    y_test = Y_scaled[indices[n:],:] \n",
    "    stds = stds[indices]\n",
    "    means = means[indices]\n",
    "    stds_train = stds[:n]\n",
    "    means_train = means[:n]\n",
    "    stds_test = stds[n:]\n",
    "    means_test = means[n:]\n",
    "    return stds_train,means_train,X_train,y_train,stds_test,means_test,X_test,y_test"
   ]
  },
  {
   "cell_type": "markdown",
   "metadata": {},
   "source": [
    "# Training Generic Neural Net"
   ]
  },
  {
   "cell_type": "code",
   "execution_count": 114,
   "metadata": {
    "scrolled": false
   },
   "outputs": [],
   "source": [
    "from sklearn.metrics import mean_squared_error\n",
    "from keras.models import Sequential\n",
    "from keras.layers import Dense\n",
    "from keras.layers import Flatten\n",
    "from keras.layers import LSTM\n",
    "\n",
    "def trainGeneric(lookback,X_raw,a,b,shuffle_flag):\n",
    "    stds_train,means_train,X_train,y_train,stds_test,means_test,X_test,y_test = preparedata(X_raw,lookback,a,b,shuffle_flag)\n",
    "    #y_train = np.expand_dims(y_train, axis=1)\n",
    "    #y_test = np.expand_dims(y_test, axis=1)\n",
    "    temp_train = X_train.reshape(X_train.shape[0],X_train.shape[1]*X_train.shape[2])\n",
    "    temp_test = X_test.reshape(X_test.shape[0],X_test.shape[1]*X_test.shape[2])\n",
    "    print(X_train.shape)\n",
    "    print(temp_train.shape)\n",
    "\n",
    "    # design network\n",
    "    model = Sequential()\n",
    "    #model.add(LSTM(4, input_shape=(X_train.shape[1], X_train.shape[2])))\n",
    "    model.add(Dense(100, input_shape=(temp_train.shape[1],)))\n",
    "    model.add(Dense(300))\n",
    "\n",
    "    #model.add(Dense(10))\n",
    "    model.compile(loss='mean_squared_error', optimizer='adam')\n",
    "    # fit network\n",
    "    history = model.fit(temp_train, y_train, batch_size = 10, epochs=100, validation_data=(temp_test, y_test), verbose=0, shuffle=True)\n",
    "    # plot history\n",
    "    plt.semilogy(np.array(history.history['loss'])/a, label='Training Error')\n",
    "    plt.semilogy(np.array(history.history['val_loss'])/b, label='Test Error')\n",
    "    plt.xlabel('Iteration')\n",
    "    plt.ylabel('MSE')\n",
    "    plt.legend()\n",
    "    plt.show()\n",
    "    model.summary()\n",
    "    return model,stds_test,means_test,X_test,y_test\n"
   ]
  },
  {
   "cell_type": "markdown",
   "metadata": {},
   "source": [
    "# LSTM RNN"
   ]
  },
  {
   "cell_type": "code",
   "execution_count": 141,
   "metadata": {},
   "outputs": [],
   "source": [
    "from keras.layers import LSTM\n",
    "from keras.models import Sequential\n",
    "from keras.layers import Dense\n",
    "from keras.layers import Reshape\n",
    "def trainRNN(lookback,X_raw,a,b,shuffle_flag,LSTM_node):\n",
    "    n = X_raw.shape[1] # size of input\n",
    "    stds_train,means_train,X_train,y_train,stds_test,means_test,X_test,y_test = preparedata(X_raw,lookback,a,b,shuffle_flag)\n",
    "    if lookback == 1:\n",
    "        # change expected output shape if lookback is 1\n",
    "        y_train = np.squeeze(y_train,axis = 1)\n",
    "        y_test = np.squeeze(y_test,axis = 1)\n",
    "    # build neural net\n",
    "    model = Sequential()\n",
    "    model.add(LSTM(LSTM_node, input_shape=(lookback, n)))\n",
    "    model.add(Dense((n)))\n",
    "    model.compile(loss='mean_squared_error', optimizer='adam')\n",
    "    history = model.fit(X_train, y_train, epochs=100, batch_size=10, validation_data=(X_test, y_test), verbose=0, shuffle=False)\n",
    "    # plot history\n",
    "    plt.semilogy(np.array(history.history['loss'])/a/10, label='Training Error')\n",
    "    plt.semilogy(np.array(history.history['val_loss'])/b, label='Test Error')\n",
    "    plt.xlabel('Epoch')\n",
    "    plt.ylabel('MSE')\n",
    "    plt.legend()\n",
    "    plt.show()\n",
    "    model.summary()\n",
    "    return model,stds_test,means_test,X_test,y_test\n"
   ]
  },
  {
   "cell_type": "markdown",
   "metadata": {},
   "source": [
    "# Non-accumulative Test"
   ]
  },
  {
   "cell_type": "code",
   "execution_count": 142,
   "metadata": {},
   "outputs": [
    {
     "name": "stdout",
     "output_type": "stream",
     "text": [
      "Data shuffled\n"
     ]
    },
    {
     "data": {
      "image/png": "[encoded data removed]",
      "text/plain": [
       "<Figure size 432x288 with 1 Axes>"
      ]
     },
     "metadata": {
      "needs_background": "light"
     },
     "output_type": "display_data"
    },
    {
     "name": "stdout",
     "output_type": "stream",
     "text": [
      "_________________________________________________________________\n",
      "Layer (type)                 Output Shape              Param #   \n",
      "=================================================================\n",
      "dense_63 (Dense)             (None, 3, 300)            90300     \n",
      "_________________________________________________________________\n",
      "flatten_15 (Flatten)         (None, 900)               0         \n",
      "_________________________________________________________________\n",
      "dense_64 (Dense)             (None, 300)               270300    \n",
      "=================================================================\n",
      "Total params: 360,600\n",
      "Trainable params: 360,600\n",
      "Non-trainable params: 0\n",
      "_________________________________________________________________\n",
      "24/24 [==============================] - 2s 80ms/step\n",
      "Randomly chosen index: 11\n"
     ]
    },
    {
     "data": {
      "image/png": "[encoded data removed]",
      "text/plain": [
       "<Figure size 432x288 with 1 Axes>"
      ]
     },
     "metadata": {
      "needs_background": "light"
     },
     "output_type": "display_data"
    },
    {
     "name": "stdout",
     "output_type": "stream",
     "text": [
      "Slope =  0.9982643884161855\n",
      "r squared =  0.9998648707164399\n",
      "Data shuffled\n"
     ]
    },
    {
     "data": {
      "image/png": "[encoded data removed]",
      "text/plain": [
       "<Figure size 432x288 with 1 Axes>"
      ]
     },
     "metadata": {
      "needs_background": "light"
     },
     "output_type": "display_data"
    },
    {
     "name": "stdout",
     "output_type": "stream",
     "text": [
      "_________________________________________________________________\n",
      "Layer (type)                 Output Shape              Param #   \n",
      "=================================================================\n",
      "lstm_37 (LSTM)               (None, 100)               160400    \n",
      "_________________________________________________________________\n",
      "dense_65 (Dense)             (None, 300)               30300     \n",
      "=================================================================\n",
      "Total params: 190,700\n",
      "Trainable params: 190,700\n",
      "Non-trainable params: 0\n",
      "_________________________________________________________________\n",
      "24/24 [==============================] - 2s 81ms/step\n",
      "Randomly chosen index: 18\n"
     ]
    },
    {
     "data": {
      "image/png": "[encoded data removed]",
      "text/plain": [
       "<Figure size 432x288 with 1 Axes>"
      ]
     },
     "metadata": {
      "needs_background": "light"
     },
     "output_type": "display_data"
    },
    {
     "name": "stdout",
     "output_type": "stream",
     "text": [
      "Slope =  0.988798219951467\n",
      "r squared =  0.9975309673510675\n"
     ]
    }
   ],
   "source": [
    "import scipy\n",
    "a = 4\n",
    "b = 1\n",
    "lookback = 3\n",
    "shuffle_flag = 1\n",
    "LSTM_node = 100\n",
    "######### test generic net #########\n",
    "model,stds_test,means_test,X_test,y_test = trainGeneric(lookback,X_raw,a,b,shuffle_flag)\n",
    "# visualize model prediction and validation\n",
    "y_predicted = model.predict(X_test,batch_size=None, verbose=1, steps=None)\n",
    "# rescale tested y\n",
    "y_test_rescaled = rescaledata(stds_test,means_test,y_test)\n",
    "y_predicted_rescaled = rescaledata(stds_test,means_test,y_predicted)\n",
    "# plot the comparison between original data and predicted data\n",
    "ind = np.random.randint(y_test.shape[0])\n",
    "print('Randomly chosen index:', ind)\n",
    "plt.plot(y_test_rescaled[ind,], y_predicted_rescaled[ind,],'o')\n",
    "plt.xlabel('Test Data')\n",
    "plt.ylabel('Predicted Data')\n",
    "plt.title('Test Validation')\n",
    "plt.show()\n",
    "slope, intercept, r_value, p_value, std_err = scipy.stats.linregress(y_test_rescaled[ind,], y_predicted_rescaled[ind,])\n",
    "print('Slope = ',slope)\n",
    "print('r squared = ',r_value)\n",
    "######### test RNN #########\n",
    "model_1,stds_test,means_test,X_test,y_test = trainRNN(lookback,X_raw,a,b,shuffle_flag,LSTM_node)\n",
    "y_predicted = model_1.predict(X_test,batch_size=None, verbose=1, steps=None)\n",
    "# rescale tested y\n",
    "y_test_rescaled = rescaledata(stds_test,means_test,y_test)\n",
    "y_predicted_rescaled = rescaledata(stds_test,means_test,y_predicted)\n",
    "# plot the comparison between original data and predicted data\n",
    "ind = np.random.randint(y_test.shape[0])\n",
    "print('Randomly chosen index:', ind)\n",
    "plt.plot(y_test_rescaled[ind,], y_predicted_rescaled[ind,],'o')\n",
    "plt.xlabel('Test Data')\n",
    "plt.ylabel('Predicted Data')\n",
    "plt.title('Test Validation')\n",
    "plt.show()\n",
    "slope, intercept, r_value, p_value, std_err = scipy.stats.linregress(y_test_rescaled[ind,], y_predicted_rescaled[ind,])\n",
    "print('Slope = ',slope)\n",
    "print('r squared = ',r_value)"
   ]
  },
  {
   "cell_type": "markdown",
   "metadata": {},
   "source": [
    "# Sequential Testing"
   ]
  },
  {
   "cell_type": "code",
   "execution_count": 135,
   "metadata": {},
   "outputs": [],
   "source": [
    "from numpy import linalg as LA\n",
    "def updateX(model,X_current,lookback):\n",
    "    # take in the current X sample and update it using LSTM trained neural net\n",
    "    # originally [X1 X2 .. X_lookback] -> [X2 .. X_lookback+1]\n",
    "    X_c_train = np.expand_dims(X_current, axis=0)\n",
    "    x_plusone = model.predict(X_c_train,batch_size=None, verbose=0, steps=None)\n",
    "    if lookback == 1:\n",
    "        X_next = x_plusone\n",
    "    else:\n",
    "        X_next = np.vstack((X_current[1:,],x_plusone))\n",
    "    return X_next,x_plusone"
   ]
  },
  {
   "cell_type": "code",
   "execution_count": null,
   "metadata": {},
   "outputs": [
    {
     "data": {
      "image/png": "[encoded data removed]",
      "text/plain": [
       "<Figure size 432x288 with 1 Axes>"
      ]
     },
     "metadata": {
      "needs_background": "light"
     },
     "output_type": "display_data"
    },
    {
     "name": "stdout",
     "output_type": "stream",
     "text": [
      "_________________________________________________________________\n",
      "Layer (type)                 Output Shape              Param #   \n",
      "=================================================================\n",
      "dense_66 (Dense)             (None, 3, 300)            90300     \n",
      "_________________________________________________________________\n",
      "flatten_16 (Flatten)         (None, 900)               0         \n",
      "_________________________________________________________________\n",
      "dense_67 (Dense)             (None, 300)               270300    \n",
      "=================================================================\n",
      "Total params: 360,600\n",
      "Trainable params: 360,600\n",
      "Non-trainable params: 0\n",
      "_________________________________________________________________\n"
     ]
    }
   ],
   "source": [
    "# RNN\n",
    "lookback = 3\n",
    "a = 4\n",
    "b = 1\n",
    "LSTM_node = 100\n",
    "shuffle_flag = 0 # no shuffling if we want to stack predictions\n",
    "model_1,stds_test,means_test,X_test,y_test = trainGeneric(lookback,X_raw,a,b,shuffle_flag)\n",
    "model_2,stds_test2,means_test2,X_test2,y_test2 = trainRNN(lookback,X_raw,a,b,shuffle_flag,LSTM_node)\n",
    "\n",
    "X_current1 = X_test[0,]\n",
    "X_current2 = X_test[0,] # both X_test should be the same\n",
    "m = y_test2.shape[0]\n",
    "i = 0\n",
    "errors1 = np.zeros(m)\n",
    "errors2 = np.zeros(m)\n",
    "while i < m:\n",
    "    X_next1,y_predicted1 = updateX(model_1,X_current1,lookback)\n",
    "    X_next2,y_predicted2 = updateX(model_2,X_current2,lookback)\n",
    "    # rescale, optional\n",
    "    y_test_rescaled = stds_test[i]*y_test[i,]+means_test[i]\n",
    "    \n",
    "    y_predicted_rescaled1 = stds_test[i]*y_predicted1+means_test[i]\n",
    "    y_predicted_rescaled2 = stds_test[i]*y_predicted2+means_test[i]\n",
    "    \n",
    "    X_current1 = X_next1\n",
    "    X_current2 = X_next2\n",
    "    errors1[i] = LA.norm(y_test_rescaled-y_predicted_rescaled1)/LA.norm(y_test_rescaled)\n",
    "    errors2[i] = LA.norm(y_test_rescaled-y_predicted_rescaled2)/LA.norm(y_test_rescaled)\n",
    "    i += 1\n",
    "plt.semilogy(errors1,'-*',label = 'Generic')\n",
    "plt.semilogy(errors2,'-*',label = 'RNN')\n",
    "plt.xlabel('Time Step')\n",
    "plt.ylabel('Error')\n",
    "plt.title('Sequential Prediction Comparison')\n",
    "plt.legend()\n",
    "plt.show()"
   ]
  },
  {
   "cell_type": "code",
   "execution_count": null,
   "metadata": {},
   "outputs": [],
   "source": []
  }
 ],
 "metadata": {
  "kernelspec": {
   "display_name": "Python 3",
   "language": "python",
   "name": "python3"
  },
  "language_info": {
   "codemirror_mode": {
    "name": "ipython",
    "version": 3
   },
   "file_extension": ".py",
   "mimetype": "text/x-python",
   "name": "python",
   "nbconvert_exporter": "python",
   "pygments_lexer": "ipython3",
   "version": "3.6.6"
  }
 },
 "nbformat": 4,
 "nbformat_minor": 2
}
