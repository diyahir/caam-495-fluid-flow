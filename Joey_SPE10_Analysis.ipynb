{
 "cells": [
  {
   "cell_type": "markdown",
   "metadata": {},
   "source": [
    "## Analyzing Raw Data"
   ]
  },
  {
   "cell_type": "code",
   "execution_count": 1,
   "metadata": {},
   "outputs": [],
   "source": [
    "## Import data\n",
    "import numpy as np\n",
    "import pandas as pd\n",
    "import matplotlib.pyplot as plt\n",
    "import random\n",
    "import sklearn\n",
    "\n",
    "\n",
    "Prod_PATH = '/Users/jiujiu/Desktop/caam-495-fluid-flow/New_Data/production' # production data"
   ]
  },
  {
   "cell_type": "code",
   "execution_count": 15,
   "metadata": {},
   "outputs": [],
   "source": [
    "Prod_unsized = np.loadtxt(Prod_PATH + '/production2.txt')\n"
   ]
  },
  {
   "cell_type": "code",
   "execution_count": 16,
   "metadata": {},
   "outputs": [
    {
     "data": {
      "text/plain": [
       "<matplotlib.legend.Legend at 0xa25ca3ac8>"
      ]
     },
     "execution_count": 16,
     "metadata": {},
     "output_type": "execute_result"
    },
    {
     "data": {
      "image/png": "[encoded data removed]",
      "text/plain": [
       "<Figure size 432x288 with 1 Axes>"
      ]
     },
     "metadata": {
      "needs_background": "light"
     },
     "output_type": "display_data"
    }
   ],
   "source": [
    "well_1 = plt.plot(Prod_unsized[:,0]/3600.0,Prod_unsized[:,1],label='Well 1')\n",
    "well_2 = plt.plot(Prod_unsized[:,0]/3600.0,Prod_unsized[:,2],label='Well 2')\n",
    "well_3 = plt.plot(Prod_unsized[:,0]/3600.0,Prod_unsized[:,3],label='Well 3')\n",
    "well_4 = plt.plot(Prod_unsized[:,0]/3600.0,Prod_unsized[:,4],label='Well 4')\n",
    "plt.title('Production Plot')\n",
    "plt.yscale('log')\n",
    "plt.xlabel('Time (Days)')\n",
    "plt.ylabel('Output (m^3/s)')\n",
    "plt.legend()"
   ]
  },
  {
   "cell_type": "code",
   "execution_count": null,
   "metadata": {},
   "outputs": [],
   "source": [
    "def preparedata(X_raw,lookback,a,b,shuffle_flag):\n",
    "    X, Y = create_dataset(X_raw,lookback)\n",
    "    if lookback == 1:\n",
    "        X = np.expand_dims(X, axis=1)\n",
    "        Y = np.expand_dims(Y, axis=1)\n",
    "    X_scaled,Y_scaled,stds,means = scaledata(X,Y)\n",
    "    # Y_rescaled = rescaledata(stds,means,Y_scaled)\n",
    "    random.seed(0)\n",
    "    indices = list(range(len(X_scaled)))\n",
    "    if shuffle_flag:\n",
    "        print('Data shuffled')\n",
    "        random.shuffle(indices)\n",
    "    n = len(X)*a//(a+b)\n",
    "    X_train = X_scaled[indices[:n],:,:]\n",
    "    y_train = Y_scaled[indices[:n],:]\n",
    "    X_test = X_scaled[indices[n:],:,:]\n",
    "    y_test = Y_scaled[indices[n:],:] \n",
    "    stds = stds[indices]\n",
    "    means = means[indices]\n",
    "    stds_train = stds[:n]\n",
    "    means_train = means[:n]\n",
    "    stds_test = stds[n:]\n",
    "    means_test = means[n:]\n",
    "    return stds_train,means_train,X_train,y_train,stds_test,means_test,X_test,y_test"
   ]
  },
  {
   "cell_type": "code",
   "execution_count": null,
   "metadata": {},
   "outputs": [],
   "source": []
  },
  {
   "cell_type": "markdown",
   "metadata": {},
   "source": [
    "## LSTM-RNN"
   ]
  },
  {
   "cell_type": "code",
   "execution_count": null,
   "metadata": {},
   "outputs": [],
   "source": [
    "from keras.layers import LSTM\n",
    "from keras.models import Sequential\n",
    "from keras.layers import Dense\n",
    "from keras.layers import Reshape\n",
    "def trainRNN(lookback,X_raw,a,b,shuffle_flag,LSTM_node):\n",
    "    n = X_raw.shape[1] # size of input\n",
    "    stds_train,means_train,X_train,y_train,stds_test,means_test,X_test,y_test = preparedata(X_raw,lookback,a,b,shuffle_flag)\n",
    "    if lookback == 1:\n",
    "        # change expected output shape if lookback is 1\n",
    "        y_train = np.squeeze(y_train,axis = 1)\n",
    "        y_test = np.squeeze(y_test,axis = 1)\n",
    "    # build neural net\n",
    "    model = Sequential()\n",
    "    model.add(LSTM(LSTM_node, input_shape=(lookback, n)))\n",
    "    model.add(Dense((n)))\n",
    "    model.compile(loss='mean_squared_error', optimizer='adam')\n",
    "    history = model.fit(X_train, y_train, epochs=100, batch_size=10, validation_data=(X_test, y_test), verbose=0, shuffle=False)\n",
    "    # plot history\n",
    "    plt.semilogy(np.array(history.history['loss'])/a/10, label='Training Error')\n",
    "    plt.semilogy(np.array(history.history['val_loss'])/b, label='Test Error')\n",
    "    plt.xlabel('Epoch')\n",
    "    plt.ylabel('MSE')\n",
    "    plt.legend()\n",
    "    plt.show()\n",
    "    model.summary()\n",
    "    return model,stds_test,means_test,X_test,y_test"
   ]
  }
 ],
 "metadata": {
  "kernelspec": {
   "display_name": "Python 3",
   "language": "python",
   "name": "python3"
  },
  "language_info": {
   "codemirror_mode": {
    "name": "ipython",
    "version": 3
   },
   "file_extension": ".py",
   "mimetype": "text/x-python",
   "name": "python",
   "nbconvert_exporter": "python",
   "pygments_lexer": "ipython3",
   "version": "3.6.6"
  }
 },
 "nbformat": 4,
 "nbformat_minor": 2
}
