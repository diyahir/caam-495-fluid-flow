{
 "cells": [
  {
   "cell_type": "markdown",
   "metadata": {},
   "source": [
    "# Imports"
   ]
  },
  {
   "cell_type": "code",
   "execution_count": 114,
   "metadata": {},
   "outputs": [],
   "source": [
    "import numpy as np\n",
    "import pandas as pd\n",
    "import matplotlib.pyplot as plt\n",
    "import random\n",
    "X_PATH = '/home/diyahir/Documents/CAAM_495_Senior_Design/caam-495-fluid-flow/Data'"
   ]
  },
  {
   "cell_type": "markdown",
   "metadata": {},
   "source": [
    "# Exploratory Data Analysis"
   ]
  },
  {
   "cell_type": "code",
   "execution_count": 115,
   "metadata": {},
   "outputs": [
    {
     "name": "stdout",
     "output_type": "stream",
     "text": [
      "Size of X:  120\n",
      "Where each instance is of size:  (10, 10, 3)\n"
     ]
    }
   ],
   "source": [
    "X_unsized = pd.read_csv(X_PATH + '/x.csv', header = None)\n",
    "X_unsized.head()\n",
    "X_unsized.shape\n",
    "X = np.resize(X_unsized.values, (120,300))\n",
    "sample = X[0]\n",
    "sample.resize(10,10,3)\n",
    "X_new = []\n",
    "for instance in X:\n",
    "    temp = instance\n",
    "    temp = np.reshape(temp,(10,10,3),order ='F')\n",
    "    X_new.append(temp)\n",
    "    \n",
    "#     print(temp[:,:,0])\n",
    "#     plt.matshow(temp[:,:,0])\n",
    "#     plt.colorbar()\n",
    "#     plt.show()\n",
    "#     sds\n",
    "\n",
    "print('Size of X: ', len(X_new))\n",
    "print('Where each instance is of size: ',temp.shape)"
   ]
  },
  {
   "cell_type": "code",
   "execution_count": 116,
   "metadata": {
    "scrolled": true
   },
   "outputs": [
    {
     "data": {
      "image/png": "[encoded data removed]",
      "text/plain": [
       "<Figure size 1080x360 with 3 Axes>"
      ]
     },
     "metadata": {
      "needs_background": "light"
     },
     "output_type": "display_data"
    }
   ],
   "source": [
    "DAY = random.randint(0,119)\n",
    "fig, (ax1, ax2, ax3) = plt.subplots(1,3,figsize=(15,5))\n",
    "\n",
    "ax1.imshow(X_new[DAY][:,:,0])\n",
    "ax1.set_title('1st layer')\n",
    "ax2.imshow(X_new[DAY][:,:,1])\n",
    "ax2.set_title('2nd layer')\n",
    "ax3.imshow(X_new[DAY][:,:,2])\n",
    "ax3.set_title('3rd layer')\n",
    "fig.suptitle('Pressure on Day: ' + str(DAY))\n",
    "plt.show()"
   ]
  },
  {
   "cell_type": "code",
   "execution_count": null,
   "metadata": {},
   "outputs": [],
   "source": []
  }
 ],
 "metadata": {
  "kernelspec": {
   "display_name": "Python 3",
   "language": "python",
   "name": "python3"
  },
  "language_info": {
   "codemirror_mode": {
    "name": "ipython",
    "version": 3
   },
   "file_extension": ".py",
   "mimetype": "text/x-python",
   "name": "python",
   "nbconvert_exporter": "python",
   "pygments_lexer": "ipython3",
   "version": "3.7.0"
  }
 },
 "nbformat": 4,
 "nbformat_minor": 2
}
