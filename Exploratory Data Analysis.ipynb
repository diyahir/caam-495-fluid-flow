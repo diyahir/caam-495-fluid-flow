{
 "cells": [
  {
   "cell_type": "markdown",
   "metadata": {},
   "source": [
    "# Imports"
   ]
  },
  {
   "cell_type": "code",
   "execution_count": 1,
   "metadata": {},
   "outputs": [],
   "source": [
    "import numpy as np\n",
    "import pandas as pd\n",
    "import matplotlib.pyplot as plt\n",
    "import random\n",
    "import sklearn\n",
    "\n",
    "X_PATH = '/home/diyahir/Documents/CAAM_495_Senior_Design/caam-495-fluid-flow/Data'\n",
    "# modify as needed for personal computer"
   ]
  },
  {
   "cell_type": "markdown",
   "metadata": {},
   "source": [
    "# Exploratory Data Analysis"
   ]
  },
  {
   "cell_type": "code",
   "execution_count": 2,
   "metadata": {},
   "outputs": [
    {
     "name": "stdout",
     "output_type": "stream",
     "text": [
      "Size of dataset X:  120\n",
      "Where each instance is of size:  (10, 10, 3)\n"
     ]
    }
   ],
   "source": [
    "X_unsized = pd.read_csv(X_PATH + '/x.csv', header = None)\n",
    "X_unsized.head()\n",
    "X_unsized.shape\n",
    "X = np.resize(X_unsized.values, (120,300))\n",
    "sample = X[0]\n",
    "sample.resize(10,10,3)\n",
    "X_new = []\n",
    "for instance in X:\n",
    "    temp = instance\n",
    "    temp = np.reshape(temp,(10,10,3),order ='F')\n",
    "    X_new.append(temp)\n",
    "    \n",
    "#     print(temp[:,:,0])\n",
    "#     plt.matshow(temp[:,:,0])\n",
    "#     plt.colorbar()\n",
    "#     plt.show()\n",
    "#     sds\n",
    "\n",
    "print('Size of dataset X: ', len(X_new))\n",
    "print('Where each instance is of size: ',temp.shape)"
   ]
  },
  {
   "cell_type": "code",
   "execution_count": 64,
   "metadata": {
    "scrolled": true
   },
   "outputs": [
    {
     "ename": "NameError",
     "evalue": "name 'ax4' is not defined",
     "output_type": "error",
     "traceback": [
      "\u001b[0;31m---------------------------------------------------------------------------\u001b[0m",
      "\u001b[0;31mNameError\u001b[0m                                 Traceback (most recent call last)",
      "\u001b[0;32m<ipython-input-64-a7aa1a8f92f5>\u001b[0m in \u001b[0;36m<module>\u001b[0;34m()\u001b[0m\n\u001b[1;32m      9\u001b[0m \u001b[0max3\u001b[0m\u001b[0;34m.\u001b[0m\u001b[0mset_title\u001b[0m\u001b[0;34m(\u001b[0m\u001b[0;34m'3rd layer'\u001b[0m\u001b[0;34m)\u001b[0m\u001b[0;34m\u001b[0m\u001b[0m\n\u001b[1;32m     10\u001b[0m \u001b[0mfig\u001b[0m\u001b[0;34m.\u001b[0m\u001b[0msuptitle\u001b[0m\u001b[0;34m(\u001b[0m\u001b[0;34m'Pressure on Day: '\u001b[0m \u001b[0;34m+\u001b[0m \u001b[0mstr\u001b[0m\u001b[0;34m(\u001b[0m\u001b[0mDAY\u001b[0m\u001b[0;34m)\u001b[0m\u001b[0;34m)\u001b[0m\u001b[0;34m\u001b[0m\u001b[0m\n\u001b[0;32m---> 11\u001b[0;31m \u001b[0mplt\u001b[0m\u001b[0;34m.\u001b[0m\u001b[0mcolorbar\u001b[0m\u001b[0;34m(\u001b[0m\u001b[0max3\u001b[0m\u001b[0;34m,\u001b[0m\u001b[0mcax\u001b[0m\u001b[0;34m=\u001b[0m\u001b[0max4\u001b[0m\u001b[0;34m)\u001b[0m\u001b[0;34m\u001b[0m\u001b[0m\n\u001b[0m\u001b[1;32m     12\u001b[0m \u001b[0mplt\u001b[0m\u001b[0;34m.\u001b[0m\u001b[0mshow\u001b[0m\u001b[0;34m(\u001b[0m\u001b[0;34m)\u001b[0m\u001b[0;34m\u001b[0m\u001b[0m\n",
      "\u001b[0;31mNameError\u001b[0m: name 'ax4' is not defined"
     ]
    },
    {
     "data": {
      "image/png": "[encoded data removed]",
      "text/plain": [
       "<Figure size 1080x360 with 3 Axes>"
      ]
     },
     "metadata": {
      "needs_background": "light"
     },
     "output_type": "display_data"
    }
   ],
   "source": [
    "DAY = random.randint(0,119)\n",
    "fig, (ax1, ax2, ax3) = plt.subplots(1,3,figsize=(15,5))\n",
    "\n",
    "ax1.imshow(X_new[DAY][:,:,0])\n",
    "ax1.set_title('1st layer')\n",
    "ax2.imshow(X_new[DAY][:,:,1])\n",
    "ax2.set_title('2nd layer')\n",
    "ax3.imshow(X_new[DAY][:,:,2])\n",
    "ax3.set_title('3rd layer')\n",
    "fig.suptitle('Pressure on Day: ' + str(DAY))\n",
    "plt.colorbar(ax3,cax=ax4)\n",
    "plt.show()"
   ]
  },
  {
   "cell_type": "markdown",
   "metadata": {},
   "source": [
    "# Constructing Raw Dataset"
   ]
  },
  {
   "cell_type": "code",
   "execution_count": 28,
   "metadata": {},
   "outputs": [],
   "source": [
    "def create_dataset(X,window_len):\n",
    "    \"\"\"\n",
    "    Takes in a timeseries X to create a dataset such that\n",
    "    \n",
    "    X_new = [[X_0,X_1,X_2,...,X_window_len],....[X_end-window_len,....,X_end]]\n",
    "    Y_new = [X_window_len,....X_end]\n",
    "    \"\"\"\n",
    "    X_new = []\n",
    "    Y_new = X[window_len:]\n",
    "    for index in range(len(X) - window_len):\n",
    "        \n",
    "        temp = np.reshape(X[index],(10,10,3,1))\n",
    "        for i in range(1,window_len):\n",
    "            new_X = np.reshape(X[index+i],(10,10,3,1))\n",
    "            temp = np.concatenate((temp,new_X),axis = 3)\n",
    "        \n",
    "        X_new.append(temp)\n",
    "        \n",
    "    return X_new,Y_new"
   ]
  },
  {
   "cell_type": "code",
   "execution_count": 57,
   "metadata": {},
   "outputs": [
    {
     "name": "stdout",
     "output_type": "stream",
     "text": [
      "Shape of each x: (10, 10, 3, 3)\n",
      "Size of dataset: 117\n"
     ]
    }
   ],
   "source": [
    "X, Y = create_dataset(X_new,3)\n",
    "print('Shape of each x:',X[0].shape)\n",
    "print('Size of dataset:',len(X))"
   ]
  },
  {
   "cell_type": "code",
   "execution_count": 59,
   "metadata": {},
   "outputs": [
    {
     "name": "stdout",
     "output_type": "stream",
     "text": [
      "Sanity check so that we know that the first Y is the next X\n",
      "[[ True  True  True  True  True  True  True  True  True  True]\n",
      " [ True  True  True  True  True  True  True  True  True  True]\n",
      " [ True  True  True  True  True  True  True  True  True  True]\n",
      " [ True  True  True  True  True  True  True  True  True  True]\n",
      " [ True  True  True  True  True  True  True  True  True  True]\n",
      " [ True  True  True  True  True  True  True  True  True  True]\n",
      " [ True  True  True  True  True  True  True  True  True  True]\n",
      " [ True  True  True  True  True  True  True  True  True  True]\n",
      " [ True  True  True  True  True  True  True  True  True  True]\n",
      " [ True  True  True  True  True  True  True  True  True  True]]\n",
      "\n",
      "Sanity check so that we know that the two are of the length\n",
      "True\n"
     ]
    }
   ],
   "source": [
    "print('Sanity check so that we know that the first Y is the next X')\n",
    "print(X[1][:,:,0,2] == Y[0][:,:,0])\n",
    "print('\\nSanity check so that we know that the two are of the length')\n",
    "print(len(X) == len(Y))"
   ]
  },
  {
   "cell_type": "code",
   "execution_count": null,
   "metadata": {},
   "outputs": [],
   "source": []
  }
 ],
 "metadata": {
  "kernelspec": {
   "display_name": "Python 3",
   "language": "python",
   "name": "python3"
  },
  "language_info": {
   "codemirror_mode": {
    "name": "ipython",
    "version": 3
   },
   "file_extension": ".py",
   "mimetype": "text/x-python",
   "name": "python",
   "nbconvert_exporter": "python",
   "pygments_lexer": "ipython3",
   "version": "3.7.0"
  }
 },
 "nbformat": 4,
 "nbformat_minor": 2
}
