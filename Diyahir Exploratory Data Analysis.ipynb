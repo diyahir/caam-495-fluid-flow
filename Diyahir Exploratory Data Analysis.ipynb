{
 "cells": [
  {
   "cell_type": "markdown",
   "metadata": {},
   "source": [
    "# Imports"
   ]
  },
  {
   "cell_type": "code",
   "execution_count": 2,
   "metadata": {},
   "outputs": [],
   "source": [
    "import numpy as np\n",
    "import pandas as pd\n",
    "import matplotlib.pyplot as plt\n",
    "import random\n",
    "import sklearn\n",
    "\n",
    "X_PATH = '/Users/jiujiu/Desktop/caam-495-fluid-flow/Data'\n",
    "# modify as needed for personal computer"
   ]
  },
  {
   "cell_type": "markdown",
   "metadata": {},
   "source": [
    "# Exploratory Data Analysis"
   ]
  },
  {
   "cell_type": "markdown",
   "metadata": {},
   "source": [
    "### Importing Data and resizing "
   ]
  },
  {
   "cell_type": "code",
   "execution_count": 3,
   "metadata": {},
   "outputs": [
    {
     "name": "stdout",
     "output_type": "stream",
     "text": [
      "Size of dataset X:  120\n",
      "Where each instance is of size:  (10, 10, 3)\n"
     ]
    }
   ],
   "source": [
    "X_unsized = pd.read_csv(X_PATH + '/x.csv', header = None)\n",
    "X_unsized.head()\n",
    "X_unsized.shape\n",
    "X = np.resize(X_unsized.values, (120,300))\n",
    "sample = X[0]\n",
    "sample.resize(10,10,3)\n",
    "X_new = []\n",
    "for instance in X:\n",
    "    temp = instance\n",
    "    temp = np.reshape(temp,(10,10,3),order ='F')\n",
    "    X_new.append(temp)\n",
    "    \n",
    "#     print(temp[:,:,0])\n",
    "#     plt.matshow(temp[:,:,0])\n",
    "#     plt.colorbar()\n",
    "#     plt.show()\n",
    "#     sds\n",
    "\n",
    "print('Size of dataset X: ', len(X_new))\n",
    "print('Where each instance is of size: ',temp.shape)"
   ]
  },
  {
   "cell_type": "markdown",
   "metadata": {},
   "source": [
    "### Visualizing Dataset"
   ]
  },
  {
   "cell_type": "code",
   "execution_count": 4,
   "metadata": {
    "scrolled": true
   },
   "outputs": [
    {
     "data": {
      "image/png": "[encoded data removed]",
      "text/plain": [
       "<Figure size 1080x360 with 3 Axes>"
      ]
     },
     "metadata": {
      "needs_background": "light"
     },
     "output_type": "display_data"
    }
   ],
   "source": [
    "DAY = random.randint(0,119)\n",
    "fig, (ax1, ax2, ax3) = plt.subplots(1,3,figsize=(15,5))\n",
    "\n",
    "ax1.imshow(X_new[DAY][:,:,0])\n",
    "ax1.set_title('1st layer')\n",
    "ax2.imshow(X_new[DAY][:,:,1])\n",
    "ax2.set_title('2nd layer')\n",
    "ax3.imshow(X_new[DAY][:,:,2])\n",
    "ax3.set_title('3rd layer')\n",
    "fig.suptitle('Pressure on Day: ' + str(DAY))\n",
    "plt.show()"
   ]
  },
  {
   "cell_type": "markdown",
   "metadata": {},
   "source": [
    "# Constructing Raw Dataset"
   ]
  },
  {
   "cell_type": "code",
   "execution_count": 5,
   "metadata": {},
   "outputs": [],
   "source": [
    "def create_dataset(X,window_len):\n",
    "    \"\"\"\n",
    "    Takes in a timeseries X to create a dataset such that\n",
    "    \n",
    "    X_new = [[X_0,X_1,X_2,...,X_window_len],....[X_end-window_len,....,X_end]]\n",
    "    Y_new = [X_window_len,....X_end]\n",
    "    \"\"\"\n",
    "    X_new = []\n",
    "    Y_new = X[window_len:]\n",
    "    for index in range(len(X) - window_len):\n",
    "        temp = np.reshape(X[index],(10,10,3,1))\n",
    "        for i in range(1,window_len):\n",
    "            new_X = np.reshape(X[index+i],(10,10,3,1))\n",
    "            temp = np.concatenate((temp,new_X),axis = 3)\n",
    "        \n",
    "        X_new.append(temp)\n",
    "    X_new = np.stack(X_new) \n",
    "    Y_new = np.stack(Y_new)\n",
    "    return X_new,Y_new"
   ]
  },
  {
   "cell_type": "markdown",
   "metadata": {},
   "source": [
    "### Sanity Check"
   ]
  },
  {
   "cell_type": "code",
   "execution_count": 6,
   "metadata": {},
   "outputs": [
    {
     "name": "stdout",
     "output_type": "stream",
     "text": [
      "Shape of each x: (10, 10, 3, 3)\n",
      "Size of X dataset: (117, 10, 10, 3, 3)\n",
      "Structure        : (number of instances, x-space, y-space, z-space, time)\n",
      "Size of Y dataset: (117, 10, 10, 3)\n"
     ]
    }
   ],
   "source": [
    "X, Y = create_dataset(X_new,3)\n",
    "print('Shape of each x:',X[0].shape)\n",
    "print('Size of X dataset:',X.shape)\n",
    "print('Structure        : (number of instances, x-space, y-space, z-space, time)')\n",
    "print('Size of Y dataset:',Y.shape)"
   ]
  },
  {
   "cell_type": "code",
   "execution_count": 7,
   "metadata": {},
   "outputs": [
    {
     "name": "stdout",
     "output_type": "stream",
     "text": [
      "Sanity check so that we know that the first Y is the next X\n",
      "[[ True  True  True  True  True  True  True  True  True  True]\n",
      " [ True  True  True  True  True  True  True  True  True  True]\n",
      " [ True  True  True  True  True  True  True  True  True  True]\n",
      " [ True  True  True  True  True  True  True  True  True  True]\n",
      " [ True  True  True  True  True  True  True  True  True  True]\n",
      " [ True  True  True  True  True  True  True  True  True  True]\n",
      " [ True  True  True  True  True  True  True  True  True  True]\n",
      " [ True  True  True  True  True  True  True  True  True  True]\n",
      " [ True  True  True  True  True  True  True  True  True  True]\n",
      " [ True  True  True  True  True  True  True  True  True  True]]\n"
     ]
    }
   ],
   "source": [
    "print('Sanity check so that we know that the first Y is the next X')\n",
    "print(X[1][:,:,0,2] == Y[0][:,:,0])"
   ]
  },
  {
   "cell_type": "code",
   "execution_count": 8,
   "metadata": {},
   "outputs": [
    {
     "name": "stdout",
     "output_type": "stream",
     "text": [
      "Ploting the pressure at the top level on day 1\n"
     ]
    },
    {
     "data": {
      "image/png": "[encoded data removed]",
      "text/plain": [
       "<Figure size 288x288 with 1 Axes>"
      ]
     },
     "metadata": {
      "needs_background": "light"
     },
     "output_type": "display_data"
    }
   ],
   "source": [
    "plt.matshow(X[0,:,:,0,0])\n",
    "print('Ploting the pressure at the top level on day 1')\n",
    "plt.show()"
   ]
  },
  {
   "cell_type": "code",
   "execution_count": 9,
   "metadata": {},
   "outputs": [
    {
     "data": {
      "image/png": "[encoded data removed]",
      "text/plain": [
       "<Figure size 432x288 with 1 Axes>"
      ]
     },
     "metadata": {
      "needs_background": "light"
     },
     "output_type": "display_data"
    }
   ],
   "source": [
    "mins = np.min(np.min(np.min(np.min(X,axis = 1),axis = 1),axis = 1),axis = 1)\n",
    "maxs = np.max(np.max(np.max(np.max(X,axis = 1),axis = 1),axis = 1),axis = 1)\n",
    "plt.plot(mins)\n",
    "plt.plot(maxs)\n",
    "plt.title('Mins and Maxs of each matrix')\n",
    "plt.legend(['Mins','Maxs'])\n",
    "plt.show()"
   ]
  },
  {
   "cell_type": "markdown",
   "metadata": {},
   "source": [
    "# Normalizing Dataset"
   ]
  },
  {
   "cell_type": "code",
   "execution_count": 10,
   "metadata": {},
   "outputs": [],
   "source": [
    "def scaledata(X,Y):\n",
    "    n = len(X) # number of data entries\n",
    "    stds = np.zeros([n,])\n",
    "    means = np.zeros([n,])\n",
    "    for i in range(n):\n",
    "        stds[i] = np.std(X[i,:,:,:,0])\n",
    "        means[i] = np.mean(X[i,:,:,:,0])\n",
    "        X[i,] = np.true_divide(X[i,]-means[i],stds[i])\n",
    "        Y[i,] = np.true_divide(Y[i,]-means[i],stds[i])\n",
    "    return X,Y,stds,means\n",
    "    \n",
    "def rescaledata(stds,means,Y):\n",
    "    n = len(Y)\n",
    "    for i in range(n):\n",
    "        Y[i,] = stds[i]*Y[i,]+means[i]\n",
    "    return Y"
   ]
  },
  {
   "cell_type": "code",
   "execution_count": 11,
   "metadata": {},
   "outputs": [],
   "source": [
    "X_normalized, Y_normalized, stds,means = scaledata(X,Y)"
   ]
  },
  {
   "cell_type": "code",
   "execution_count": 12,
   "metadata": {},
   "outputs": [
    {
     "data": {
      "image/png": "[encoded data removed]",
      "text/plain": [
       "<Figure size 432x288 with 1 Axes>"
      ]
     },
     "metadata": {
      "needs_background": "light"
     },
     "output_type": "display_data"
    }
   ],
   "source": [
    "mins = np.min(np.min(np.min(np.min(X_normalized,axis = 1),axis = 1),axis = 1),axis = 1)\n",
    "maxs = np.max(np.max(np.max(np.max(X_normalized,axis = 1),axis = 1),axis = 1),axis = 1)\n",
    "plt.plot(mins)\n",
    "plt.plot(maxs)\n",
    "plt.title('Mins and Maxs of each matrix of normalized data')\n",
    "plt.legend(['Mins','Maxs'])\n",
    "plt.show()"
   ]
  },
  {
   "cell_type": "markdown",
   "metadata": {},
   "source": [
    "### Spliting Data into TRAIN/TEST"
   ]
  },
  {
   "cell_type": "code",
   "execution_count": 13,
   "metadata": {},
   "outputs": [],
   "source": [
    "from sklearn.model_selection import train_test_split"
   ]
  },
  {
   "cell_type": "code",
   "execution_count": 15,
   "metadata": {},
   "outputs": [
    {
     "name": "stderr",
     "output_type": "stream",
     "text": [
      "/anaconda2/envs/py36/lib/python3.6/site-packages/ipykernel_launcher.py:5: DeprecationWarning: Both axis > a.ndim and axis < -a.ndim - 1 are deprecated and will raise an AxisError in the future.\n",
      "  \"\"\"\n",
      "/anaconda2/envs/py36/lib/python3.6/site-packages/ipykernel_launcher.py:6: DeprecationWarning: Both axis > a.ndim and axis < -a.ndim - 1 are deprecated and will raise an AxisError in the future.\n",
      "  \n"
     ]
    }
   ],
   "source": [
    " X_train, X_test, y_train, y_test = train_test_split(X_normalized, Y_normalized,\n",
    "                                                     test_size =0.20,\n",
    "                                                     random_state=42,\n",
    "                                                    shuffle = True)\n",
    "y_train = np.expand_dims(y_train,axis = 5)\n",
    "y_test = np.expand_dims(y_test,axis = 5)"
   ]
  },
  {
   "cell_type": "code",
   "execution_count": 16,
   "metadata": {},
   "outputs": [
    {
     "name": "stdout",
     "output_type": "stream",
     "text": [
      "Training size X: (93, 10, 10, 3, 3)\n",
      "Testing size  X: (24, 10, 10, 3, 3)\n",
      "Training size Y: (93, 10, 10, 3, 1)\n",
      "Testing size  Y: (24, 10, 10, 3, 1)\n"
     ]
    }
   ],
   "source": [
    "print('Training size X:',X_train.shape)\n",
    "print('Testing size  X:',X_test.shape)\n",
    "print('Training size Y:',y_train.shape)\n",
    "print('Testing size  Y:',y_test.shape)\n",
    "\n"
   ]
  },
  {
   "cell_type": "code",
   "execution_count": 17,
   "metadata": {},
   "outputs": [
    {
     "name": "stdout",
     "output_type": "stream",
     "text": [
      "Ploting the pressure for first Training data\n"
     ]
    },
    {
     "data": {
      "image/png": "[encoded data removed]",
      "text/plain": [
       "<Figure size 288x288 with 1 Axes>"
      ]
     },
     "metadata": {
      "needs_background": "light"
     },
     "output_type": "display_data"
    }
   ],
   "source": [
    "plt.matshow(X_train[0,:,:,0,0])\n",
    "print('Ploting the pressure for first Training data')\n",
    "plt.show()"
   ]
  },
  {
   "cell_type": "markdown",
   "metadata": {},
   "source": [
    "# Creating Neural Network Architecture"
   ]
  },
  {
   "cell_type": "code",
   "execution_count": 18,
   "metadata": {},
   "outputs": [
    {
     "name": "stderr",
     "output_type": "stream",
     "text": [
      "Using TensorFlow backend.\n"
     ]
    }
   ],
   "source": [
    "import keras\n",
    "from keras.models import Sequential\n",
    "from keras.models import Model, load_model\n",
    "from keras.layers import Input\n",
    "from keras.layers.core import Dropout, Lambda\n",
    "from keras.layers.convolutional import Conv3D, Conv3DTranspose\n",
    "\n",
    "from keras.layers.pooling import MaxPooling3D\n",
    "from keras.layers.merge import concatenate\n",
    "from keras.callbacks import EarlyStopping, ModelCheckpoint\n",
    "from keras import backend as K\n",
    "\n",
    "X_SIZE = 10\n",
    "Y_SIZE = 10 \n",
    "SAT_LAYERS = 3\n",
    "WINDOW_LENGTH = 3"
   ]
  },
  {
   "cell_type": "code",
   "execution_count": 21,
   "metadata": {},
   "outputs": [
    {
     "name": "stdout",
     "output_type": "stream",
     "text": [
      "__________________________________________________________________________________________________\n",
      "Layer (type)                    Output Shape         Param #     Connected to                     \n",
      "==================================================================================================\n",
      "input_2 (InputLayer)            (None, 10, 10, 3, 3) 0                                            \n",
      "__________________________________________________________________________________________________\n",
      "conv3d_6 (Conv3D)               (None, 10, 10, 3, 8) 656         input_2[0][0]                    \n",
      "__________________________________________________________________________________________________\n",
      "dropout_3 (Dropout)             (None, 10, 10, 3, 8) 0           conv3d_6[0][0]                   \n",
      "__________________________________________________________________________________________________\n",
      "conv3d_7 (Conv3D)               (None, 10, 10, 3, 16 3472        dropout_3[0][0]                  \n",
      "__________________________________________________________________________________________________\n",
      "max_pooling3d_2 (MaxPooling3D)  (None, 5, 5, 3, 16)  0           conv3d_7[0][0]                   \n",
      "__________________________________________________________________________________________________\n",
      "conv3d_transpose_2 (Conv3DTrans (None, 10, 10, 6, 16 2064        max_pooling3d_2[0][0]            \n",
      "__________________________________________________________________________________________________\n",
      "concatenate_2 (Concatenate)     (None, 10, 10, 9, 16 0           conv3d_transpose_2[0][0]         \n",
      "                                                                 conv3d_7[0][0]                   \n",
      "__________________________________________________________________________________________________\n",
      "conv3d_8 (Conv3D)               (None, 10, 10, 9, 16 6928        concatenate_2[0][0]              \n",
      "__________________________________________________________________________________________________\n",
      "dropout_4 (Dropout)             (None, 10, 10, 9, 16 0           conv3d_8[0][0]                   \n",
      "__________________________________________________________________________________________________\n",
      "conv3d_9 (Conv3D)               (None, 10, 10, 9, 16 6928        dropout_4[0][0]                  \n",
      "__________________________________________________________________________________________________\n",
      "conv3d_10 (Conv3D)              (None, 10, 10, 3, 1) 113         conv3d_9[0][0]                   \n",
      "==================================================================================================\n",
      "Total params: 20,161\n",
      "Trainable params: 20,161\n",
      "Non-trainable params: 0\n",
      "__________________________________________________________________________________________________\n"
     ]
    }
   ],
   "source": [
    "inputs = Input((X_SIZE, Y_SIZE, SAT_LAYERS, WINDOW_LENGTH))\n",
    "\n",
    "c1 = Conv3D(8, (3, 3, 3), activation='elu', kernel_initializer='he_normal', padding='same') (inputs)\n",
    "c1 = Dropout(0.1) (c1)\n",
    "c1 = Conv3D(16, (3, 3, 3), activation='elu', kernel_initializer='he_normal', padding='same') (c1)\n",
    "p1 = MaxPooling3D((2, 2, 1)) (c1)\n",
    "\n",
    "u9 = Conv3DTranspose(16, (2, 2, 2), strides=(2, 2, 2), padding='same') (p1)\n",
    "u9 = concatenate([u9, c1], axis=3)\n",
    "c9 = Conv3D(16, (3, 3, 3), activation='elu', kernel_initializer='he_normal', padding='same') (u9)\n",
    "c9 = Dropout(0.1) (c9)\n",
    "c9 = Conv3D(16, (3, 3, 3), activation='elu', kernel_initializer='he_normal', padding='same') (c9)\n",
    "\n",
    "outputs = Conv3D(1, (1, 1, 7), activation='linear') (c9)\n",
    "\n",
    "model = Model(inputs=[inputs], outputs=[outputs])\n",
    "model.compile(optimizer='adam', loss='mse')\n",
    "model.summary()"
   ]
  },
  {
   "cell_type": "code",
   "execution_count": 22,
   "metadata": {},
   "outputs": [
    {
     "name": "stdout",
     "output_type": "stream",
     "text": [
      "Epoch 1/50\n",
      "93/93 [==============================] - 4s 46ms/step - loss: 2.0181\n",
      "Epoch 2/50\n",
      "93/93 [==============================] - 1s 10ms/step - loss: 0.6073\n",
      "Epoch 3/50\n",
      "93/93 [==============================] - 1s 10ms/step - loss: 0.3491\n",
      "Epoch 4/50\n",
      "93/93 [==============================] - 1s 11ms/step - loss: 0.2667\n",
      "Epoch 5/50\n",
      "93/93 [==============================] - 1s 11ms/step - loss: 0.2126\n",
      "Epoch 6/50\n",
      "93/93 [==============================] - 1s 10ms/step - loss: 0.1839\n",
      "Epoch 7/50\n",
      "93/93 [==============================] - 1s 10ms/step - loss: 0.1446\n",
      "Epoch 8/50\n",
      "93/93 [==============================] - 1s 10ms/step - loss: 0.1287\n",
      "Epoch 9/50\n",
      "93/93 [==============================] - 1s 10ms/step - loss: 0.1137\n",
      "Epoch 10/50\n",
      "93/93 [==============================] - 1s 12ms/step - loss: 0.0975\n",
      "Epoch 11/50\n",
      "93/93 [==============================] - 1s 10ms/step - loss: 0.0983\n",
      "Epoch 12/50\n",
      "93/93 [==============================] - 1s 10ms/step - loss: 0.0896\n",
      "Epoch 13/50\n",
      "93/93 [==============================] - 1s 12ms/step - loss: 0.0817\n",
      "Epoch 14/50\n",
      "93/93 [==============================] - 1s 14ms/step - loss: 0.0812\n",
      "Epoch 15/50\n",
      "93/93 [==============================] - 1s 10ms/step - loss: 0.0736\n",
      "Epoch 16/50\n",
      "93/93 [==============================] - 1s 10ms/step - loss: 0.0712\n",
      "Epoch 17/50\n",
      "93/93 [==============================] - 1s 10ms/step - loss: 0.0673\n",
      "Epoch 18/50\n",
      "93/93 [==============================] - 1s 10ms/step - loss: 0.0665\n",
      "Epoch 19/50\n",
      "93/93 [==============================] - 1s 10ms/step - loss: 0.0630\n",
      "Epoch 20/50\n",
      "93/93 [==============================] - 1s 10ms/step - loss: 0.0601\n",
      "Epoch 21/50\n",
      "93/93 [==============================] - 1s 10ms/step - loss: 0.0572\n",
      "Epoch 22/50\n",
      "93/93 [==============================] - 1s 10ms/step - loss: 0.0575\n",
      "Epoch 23/50\n",
      "93/93 [==============================] - 1s 10ms/step - loss: 0.0571\n",
      "Epoch 24/50\n",
      "93/93 [==============================] - 1s 10ms/step - loss: 0.0536\n",
      "Epoch 25/50\n",
      "93/93 [==============================] - 1s 10ms/step - loss: 0.0537\n",
      "Epoch 26/50\n",
      "93/93 [==============================] - 1s 10ms/step - loss: 0.0518\n",
      "Epoch 27/50\n",
      "93/93 [==============================] - 1s 10ms/step - loss: 0.0529\n",
      "Epoch 28/50\n",
      "93/93 [==============================] - 1s 10ms/step - loss: 0.0488\n",
      "Epoch 29/50\n",
      "93/93 [==============================] - 1s 11ms/step - loss: 0.0500\n",
      "Epoch 30/50\n",
      "93/93 [==============================] - 1s 11ms/step - loss: 0.0471\n",
      "Epoch 31/50\n",
      "93/93 [==============================] - 1s 10ms/step - loss: 0.0458\n",
      "Epoch 32/50\n",
      "93/93 [==============================] - 1s 10ms/step - loss: 0.0432\n",
      "Epoch 33/50\n",
      "93/93 [==============================] - 1s 14ms/step - loss: 0.0414\n",
      "Epoch 34/50\n",
      "93/93 [==============================] - 1s 12ms/step - loss: 0.0418\n",
      "Epoch 35/50\n",
      "93/93 [==============================] - 1s 10ms/step - loss: 0.0396\n",
      "Epoch 36/50\n",
      "93/93 [==============================] - 1s 10ms/step - loss: 0.0374\n",
      "Epoch 37/50\n",
      "93/93 [==============================] - 1s 10ms/step - loss: 0.0373\n",
      "Epoch 38/50\n",
      "93/93 [==============================] - 1s 12ms/step - loss: 0.0371\n",
      "Epoch 39/50\n",
      "93/93 [==============================] - 1s 10ms/step - loss: 0.0373\n",
      "Epoch 40/50\n",
      "93/93 [==============================] - 1s 10ms/step - loss: 0.0367\n",
      "Epoch 41/50\n",
      "93/93 [==============================] - 1s 10ms/step - loss: 0.0367\n",
      "Epoch 42/50\n",
      "93/93 [==============================] - 1s 10ms/step - loss: 0.0347\n",
      "Epoch 43/50\n",
      "93/93 [==============================] - 1s 12ms/step - loss: 0.0332\n",
      "Epoch 44/50\n",
      "93/93 [==============================] - 1s 10ms/step - loss: 0.0322\n",
      "Epoch 45/50\n",
      "93/93 [==============================] - 1s 10ms/step - loss: 0.0326\n",
      "Epoch 46/50\n",
      "93/93 [==============================] - 1s 10ms/step - loss: 0.0307\n",
      "Epoch 47/50\n",
      "93/93 [==============================] - 1s 14ms/step - loss: 0.0295\n",
      "Epoch 48/50\n",
      "93/93 [==============================] - 1s 10ms/step - loss: 0.0287\n",
      "Epoch 49/50\n",
      "93/93 [==============================] - 1s 11ms/step - loss: 0.0292\n",
      "Epoch 50/50\n",
      "93/93 [==============================] - 1s 12ms/step - loss: 0.0269\n"
     ]
    },
    {
     "data": {
      "text/plain": [
       "<keras.callbacks.History at 0x1a403e8cf8>"
      ]
     },
     "execution_count": 22,
     "metadata": {},
     "output_type": "execute_result"
    }
   ],
   "source": [
    "model.fit(X_train, y_train, epochs=50, batch_size= 30)"
   ]
  },
  {
   "cell_type": "code",
   "execution_count": null,
   "metadata": {},
   "outputs": [],
   "source": []
  }
 ],
 "metadata": {
  "kernelspec": {
   "display_name": "Python 3",
   "language": "python",
   "name": "python3"
  },
  "language_info": {
   "codemirror_mode": {
    "name": "ipython",
    "version": 3
   },
   "file_extension": ".py",
   "mimetype": "text/x-python",
   "name": "python",
   "nbconvert_exporter": "python",
   "pygments_lexer": "ipython3",
   "version": "3.6.6"
  }
 },
 "nbformat": 4,
 "nbformat_minor": 2
}
